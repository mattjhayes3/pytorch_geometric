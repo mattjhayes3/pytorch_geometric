{
 "cells": [
  {
   "cell_type": "code",
   "execution_count": 1,
   "metadata": {
    "colab": {
     "base_uri": "https://localhost:8080/"
    },
    "id": "yeFDk_ycdTIc",
    "outputId": "64dde7a0-1653-4203-b372-f7e0fe65f252"
   },
   "outputs": [
    {
     "name": "stdout",
     "output_type": "stream",
     "text": [
      "Cloning into 'pytorch_geometric'...\n",
      "remote: Enumerating objects: 61214, done.\u001b[K\n",
      "remote: Counting objects: 100% (9969/9969), done.\u001b[K\n",
      "remote: Compressing objects: 100% (770/770), done.\u001b[K\n",
      "remote: Total 61214 (delta 9514), reused 9247 (delta 9199), pack-reused 51245 (from 1)\u001b[K\n",
      "Receiving objects: 100% (61214/61214), 17.15 MiB | 14.58 MiB/s, done.\n",
      "Resolving deltas: 100% (47611/47611), done.\n"
     ]
    }
   ],
   "source": [
    "!git clone https://github.com/mattjhayes3/pytorch_geometric.git"
   ]
  },
  {
   "cell_type": "code",
   "execution_count": 2,
   "metadata": {
    "colab": {
     "base_uri": "https://localhost:8080/"
    },
    "id": "EYbI_hc4dUDl",
    "outputId": "d13adf3c-322e-4e70-a7d9-d88da4cd4e07"
   },
   "outputs": [
    {
     "name": "stdout",
     "output_type": "stream",
     "text": [
      "Collecting ogb\n",
      "  Downloading ogb-1.3.6-py3-none-any.whl.metadata (6.2 kB)\n",
      "Requirement already satisfied: torch>=1.6.0 in /usr/local/lib/python3.10/dist-packages (from ogb) (2.5.1+cu121)\n",
      "Requirement already satisfied: numpy>=1.16.0 in /usr/local/lib/python3.10/dist-packages (from ogb) (1.26.4)\n",
      "Requirement already satisfied: tqdm>=4.29.0 in /usr/local/lib/python3.10/dist-packages (from ogb) (4.66.6)\n",
      "Requirement already satisfied: scikit-learn>=0.20.0 in /usr/local/lib/python3.10/dist-packages (from ogb) (1.5.2)\n",
      "Requirement already satisfied: pandas>=0.24.0 in /usr/local/lib/python3.10/dist-packages (from ogb) (2.2.2)\n",
      "Requirement already satisfied: six>=1.12.0 in /usr/local/lib/python3.10/dist-packages (from ogb) (1.16.0)\n",
      "Requirement already satisfied: urllib3>=1.24.0 in /usr/local/lib/python3.10/dist-packages (from ogb) (2.2.3)\n",
      "Collecting outdated>=0.2.0 (from ogb)\n",
      "  Downloading outdated-0.2.2-py2.py3-none-any.whl.metadata (4.7 kB)\n",
      "Requirement already satisfied: setuptools>=44 in /usr/local/lib/python3.10/dist-packages (from outdated>=0.2.0->ogb) (75.1.0)\n",
      "Collecting littleutils (from outdated>=0.2.0->ogb)\n",
      "  Downloading littleutils-0.2.4-py3-none-any.whl.metadata (679 bytes)\n",
      "Requirement already satisfied: requests in /usr/local/lib/python3.10/dist-packages (from outdated>=0.2.0->ogb) (2.32.3)\n",
      "Requirement already satisfied: python-dateutil>=2.8.2 in /usr/local/lib/python3.10/dist-packages (from pandas>=0.24.0->ogb) (2.8.2)\n",
      "Requirement already satisfied: pytz>=2020.1 in /usr/local/lib/python3.10/dist-packages (from pandas>=0.24.0->ogb) (2024.2)\n",
      "Requirement already satisfied: tzdata>=2022.7 in /usr/local/lib/python3.10/dist-packages (from pandas>=0.24.0->ogb) (2024.2)\n",
      "Requirement already satisfied: scipy>=1.6.0 in /usr/local/lib/python3.10/dist-packages (from scikit-learn>=0.20.0->ogb) (1.13.1)\n",
      "Requirement already satisfied: joblib>=1.2.0 in /usr/local/lib/python3.10/dist-packages (from scikit-learn>=0.20.0->ogb) (1.4.2)\n",
      "Requirement already satisfied: threadpoolctl>=3.1.0 in /usr/local/lib/python3.10/dist-packages (from scikit-learn>=0.20.0->ogb) (3.5.0)\n",
      "Requirement already satisfied: filelock in /usr/local/lib/python3.10/dist-packages (from torch>=1.6.0->ogb) (3.16.1)\n",
      "Requirement already satisfied: typing-extensions>=4.8.0 in /usr/local/lib/python3.10/dist-packages (from torch>=1.6.0->ogb) (4.12.2)\n",
      "Requirement already satisfied: networkx in /usr/local/lib/python3.10/dist-packages (from torch>=1.6.0->ogb) (3.4.2)\n",
      "Requirement already satisfied: jinja2 in /usr/local/lib/python3.10/dist-packages (from torch>=1.6.0->ogb) (3.1.4)\n",
      "Requirement already satisfied: fsspec in /usr/local/lib/python3.10/dist-packages (from torch>=1.6.0->ogb) (2024.10.0)\n",
      "Requirement already satisfied: sympy==1.13.1 in /usr/local/lib/python3.10/dist-packages (from torch>=1.6.0->ogb) (1.13.1)\n",
      "Requirement already satisfied: mpmath<1.4,>=1.1.0 in /usr/local/lib/python3.10/dist-packages (from sympy==1.13.1->torch>=1.6.0->ogb) (1.3.0)\n",
      "Requirement already satisfied: MarkupSafe>=2.0 in /usr/local/lib/python3.10/dist-packages (from jinja2->torch>=1.6.0->ogb) (3.0.2)\n",
      "Requirement already satisfied: charset-normalizer<4,>=2 in /usr/local/lib/python3.10/dist-packages (from requests->outdated>=0.2.0->ogb) (3.4.0)\n",
      "Requirement already satisfied: idna<4,>=2.5 in /usr/local/lib/python3.10/dist-packages (from requests->outdated>=0.2.0->ogb) (3.10)\n",
      "Requirement already satisfied: certifi>=2017.4.17 in /usr/local/lib/python3.10/dist-packages (from requests->outdated>=0.2.0->ogb) (2024.8.30)\n",
      "Downloading ogb-1.3.6-py3-none-any.whl (78 kB)\n",
      "\u001b[2K   \u001b[90m━━━━━━━━━━━━━━━━━━━━━━━━━━━━━━━━━━━━━━━━\u001b[0m \u001b[32m78.8/78.8 kB\u001b[0m \u001b[31m257.7 kB/s\u001b[0m eta \u001b[36m0:00:00\u001b[0m\n",
      "\u001b[?25hDownloading outdated-0.2.2-py2.py3-none-any.whl (7.5 kB)\n",
      "Downloading littleutils-0.2.4-py3-none-any.whl (8.1 kB)\n",
      "Installing collected packages: littleutils, outdated, ogb\n",
      "Successfully installed littleutils-0.2.4 ogb-1.3.6 outdated-0.2.2\n",
      "/content/pytorch_geometric\n",
      "Branch 'non_interactive_testing' set up to track remote branch 'non_interactive_testing' from 'origin'.\n",
      "Switched to a new branch 'non_interactive_testing'\n",
      "Processing /content/pytorch_geometric\n",
      "  Installing build dependencies ... \u001b[?25l\u001b[?25hdone\n",
      "  Getting requirements to build wheel ... \u001b[?25l\u001b[?25hdone\n",
      "  Preparing metadata (pyproject.toml) ... \u001b[?25l\u001b[?25hdone\n",
      "Requirement already satisfied: aiohttp in /usr/local/lib/python3.10/dist-packages (from torch-geometric==2.7.0) (3.11.9)\n",
      "Requirement already satisfied: fsspec in /usr/local/lib/python3.10/dist-packages (from torch-geometric==2.7.0) (2024.10.0)\n",
      "Requirement already satisfied: jinja2 in /usr/local/lib/python3.10/dist-packages (from torch-geometric==2.7.0) (3.1.4)\n",
      "Requirement already satisfied: numpy in /usr/local/lib/python3.10/dist-packages (from torch-geometric==2.7.0) (1.26.4)\n",
      "Requirement already satisfied: psutil>=5.8.0 in /usr/local/lib/python3.10/dist-packages (from torch-geometric==2.7.0) (5.9.5)\n",
      "Requirement already satisfied: pyparsing in /usr/local/lib/python3.10/dist-packages (from torch-geometric==2.7.0) (3.2.0)\n",
      "Requirement already satisfied: requests in /usr/local/lib/python3.10/dist-packages (from torch-geometric==2.7.0) (2.32.3)\n",
      "Requirement already satisfied: tqdm in /usr/local/lib/python3.10/dist-packages (from torch-geometric==2.7.0) (4.66.6)\n",
      "Requirement already satisfied: aiohappyeyeballs>=2.3.0 in /usr/local/lib/python3.10/dist-packages (from aiohttp->torch-geometric==2.7.0) (2.4.4)\n",
      "Requirement already satisfied: aiosignal>=1.1.2 in /usr/local/lib/python3.10/dist-packages (from aiohttp->torch-geometric==2.7.0) (1.3.1)\n",
      "Requirement already satisfied: async-timeout<6.0,>=4.0 in /usr/local/lib/python3.10/dist-packages (from aiohttp->torch-geometric==2.7.0) (4.0.3)\n",
      "Requirement already satisfied: attrs>=17.3.0 in /usr/local/lib/python3.10/dist-packages (from aiohttp->torch-geometric==2.7.0) (24.2.0)\n",
      "Requirement already satisfied: frozenlist>=1.1.1 in /usr/local/lib/python3.10/dist-packages (from aiohttp->torch-geometric==2.7.0) (1.5.0)\n",
      "Requirement already satisfied: multidict<7.0,>=4.5 in /usr/local/lib/python3.10/dist-packages (from aiohttp->torch-geometric==2.7.0) (6.1.0)\n",
      "Requirement already satisfied: propcache>=0.2.0 in /usr/local/lib/python3.10/dist-packages (from aiohttp->torch-geometric==2.7.0) (0.2.1)\n",
      "Requirement already satisfied: yarl<2.0,>=1.17.0 in /usr/local/lib/python3.10/dist-packages (from aiohttp->torch-geometric==2.7.0) (1.18.3)\n",
      "Requirement already satisfied: MarkupSafe>=2.0 in /usr/local/lib/python3.10/dist-packages (from jinja2->torch-geometric==2.7.0) (3.0.2)\n",
      "Requirement already satisfied: charset-normalizer<4,>=2 in /usr/local/lib/python3.10/dist-packages (from requests->torch-geometric==2.7.0) (3.4.0)\n",
      "Requirement already satisfied: idna<4,>=2.5 in /usr/local/lib/python3.10/dist-packages (from requests->torch-geometric==2.7.0) (3.10)\n",
      "Requirement already satisfied: urllib3<3,>=1.21.1 in /usr/local/lib/python3.10/dist-packages (from requests->torch-geometric==2.7.0) (2.2.3)\n",
      "Requirement already satisfied: certifi>=2017.4.17 in /usr/local/lib/python3.10/dist-packages (from requests->torch-geometric==2.7.0) (2024.8.30)\n",
      "Requirement already satisfied: typing-extensions>=4.1.0 in /usr/local/lib/python3.10/dist-packages (from multidict<7.0,>=4.5->aiohttp->torch-geometric==2.7.0) (4.12.2)\n",
      "Building wheels for collected packages: torch-geometric\n",
      "  Building wheel for torch-geometric (pyproject.toml) ... \u001b[?25l\u001b[?25hdone\n",
      "  Created wheel for torch-geometric: filename=torch_geometric-2.7.0-py3-none-any.whl size=1136486 sha256=8b1b3c17636b991cc363b224d9d729c98eb34c54f2c95910eb6c9cbfaf4ab5b4\n",
      "  Stored in directory: /tmp/pip-ephem-wheel-cache-ncb5708f/wheels/6c/b2/3a/bb7fc34c4c0228d1d1071d3126fdd64271825c4823ad9e8b18\n",
      "Successfully built torch-geometric\n",
      "Installing collected packages: torch-geometric\n",
      "Successfully installed torch-geometric-2.7.0\n",
      "/content/pytorch_geometric/benchmark\n",
      "Processing /content/pytorch_geometric/benchmark\n",
      "  Preparing metadata (setup.py) ... \u001b[?25l\u001b[?25hdone\n",
      "Requirement already satisfied: scikit-learn in /usr/local/lib/python3.10/dist-packages (from torch_geometric_benchmark==0.1.0) (1.5.2)\n",
      "Requirement already satisfied: numpy>=1.19.5 in /usr/local/lib/python3.10/dist-packages (from scikit-learn->torch_geometric_benchmark==0.1.0) (1.26.4)\n",
      "Requirement already satisfied: scipy>=1.6.0 in /usr/local/lib/python3.10/dist-packages (from scikit-learn->torch_geometric_benchmark==0.1.0) (1.13.1)\n",
      "Requirement already satisfied: joblib>=1.2.0 in /usr/local/lib/python3.10/dist-packages (from scikit-learn->torch_geometric_benchmark==0.1.0) (1.4.2)\n",
      "Requirement already satisfied: threadpoolctl>=3.1.0 in /usr/local/lib/python3.10/dist-packages (from scikit-learn->torch_geometric_benchmark==0.1.0) (3.5.0)\n",
      "Building wheels for collected packages: torch_geometric_benchmark\n",
      "  Building wheel for torch_geometric_benchmark (setup.py) ... \u001b[?25l\u001b[?25hdone\n",
      "  Created wheel for torch_geometric_benchmark: filename=torch_geometric_benchmark-0.1.0-py3-none-any.whl size=38774 sha256=399029c2f980055e7558e64001189cf5fcbe238311d8d80b2d7c554c15023a56\n",
      "  Stored in directory: /tmp/pip-ephem-wheel-cache-oravlxo5/wheels/7e/42/cc/0c51a40981a2f0f7ff1ee6fdb3c7d63e36f0a589dd7d9b0618\n",
      "Successfully built torch_geometric_benchmark\n",
      "Installing collected packages: torch_geometric_benchmark\n",
      "Successfully installed torch_geometric_benchmark-0.1.0\n",
      "/content/pytorch_geometric/benchmark/citation\n"
     ]
    }
   ],
   "source": [
    "!pip install ogb\n",
    "%cd /content/pytorch_geometric\n",
    "!git checkout non_interactive_testing\n",
    "!pip install .\n",
    "%cd benchmark\n",
    "!pip install .\n",
    "%cd citation"
   ]
  },
  {
   "cell_type": "code",
   "execution_count": null,
   "metadata": {
    "colab": {
     "base_uri": "https://localhost:8080/"
    },
    "id": "KhdDH0frdRFm",
    "outputId": "33abe801-819a-4d8f-ec73-8cffd14bc3ac"
   },
   "outputs": [
    {
     "name": "stdout",
     "output_type": "stream",
     "text": [
      "Downloading https://github.com/kimiyoung/planetoid/raw/master/data/ind.cora.x\n",
      "Downloading https://github.com/kimiyoung/planetoid/raw/master/data/ind.cora.tx\n",
      "Downloading https://github.com/kimiyoung/planetoid/raw/master/data/ind.cora.allx\n",
      "Downloading https://github.com/kimiyoung/planetoid/raw/master/data/ind.cora.y\n",
      "Downloading https://github.com/kimiyoung/planetoid/raw/master/data/ind.cora.ty\n",
      "Downloading https://github.com/kimiyoung/planetoid/raw/master/data/ind.cora.ally\n",
      "Downloading https://github.com/kimiyoung/planetoid/raw/master/data/ind.cora.graph\n",
      "Downloading https://github.com/kimiyoung/planetoid/raw/master/data/ind.cora.test.index\n",
      "Processing...\n",
      "Done!\n",
      "gat.py --dataset=Cora --non_interactive\t0.7002744078636169\t0.007928789593279362\t0.8058599829673767\t0.0066682081669569016\t0.8304198980331421\t0.004355839919298887\t4.073362827301025\t0.3527282476425171\n",
      "gat.py --dataset=Cora --non_interactive --v2\t0.6934661269187927\t0.008613740094006062\t0.8112800121307373\t0.006942880339920521\t0.8333799839019775\t0.004754115827381611\t4.098370552062988\t0.29080045223236084\n",
      "gat.py --dataset=Cora --non_interactive --random_splits\t0.7183617949485779\t0.043213851749897\t0.812019944190979\t0.018318165093660355\t0.8110500574111938\t0.014287362806499004\t4.1465864181518555\t0.3210400342941284\n",
      "gat.py --dataset=Cora --non_interactive --random_splits --v2\t0.7093580365180969\t0.03977397084236145\t0.8135800361633301\t0.019086821004748344\t0.8082700371742249\t0.015717100352048874\t4.215866565704346\t0.30553165078163147\n",
      "Downloading https://github.com/kimiyoung/planetoid/raw/master/data/ind.citeseer.x\n",
      "Downloading https://github.com/kimiyoung/planetoid/raw/master/data/ind.citeseer.tx\n",
      "Downloading https://github.com/kimiyoung/planetoid/raw/master/data/ind.citeseer.allx\n",
      "Downloading https://github.com/kimiyoung/planetoid/raw/master/data/ind.citeseer.y\n",
      "Downloading https://github.com/kimiyoung/planetoid/raw/master/data/ind.citeseer.ty\n",
      "Downloading https://github.com/kimiyoung/planetoid/raw/master/data/ind.citeseer.ally\n",
      "Downloading https://github.com/kimiyoung/planetoid/raw/master/data/ind.citeseer.graph\n",
      "Downloading https://github.com/kimiyoung/planetoid/raw/master/data/ind.citeseer.test.index\n",
      "Processing...\n",
      "Done!\n",
      "gat.py --dataset=CiteSeer --non_interactive\t0.9909507036209106\t0.006112873088568449\t0.7129400372505188\t0.007075100671499968\t0.7082099914550781\t0.005255676340311766\t4.6701226234436035\t0.2848639190196991\n",
      "gat.py --dataset=CiteSeer --non_interactive --v2\t0.9904567003250122\t0.008027192205190659\t0.7147800326347351\t0.007563309744000435\t0.7106300592422485\t0.004875535145401955\t4.738701343536377\t0.3079356253147125\n",
      "gat.py --dataset=CiteSeer --non_interactive --random_splits\t1.0377696752548218\t0.0408979207277298\t0.688279926776886\t0.02262031100690365\t0.6886000037193298\t0.01882079243659973\t4.624006748199463\t0.27637290954589844\n",
      "gat.py --dataset=CiteSeer --non_interactive --random_splits --v2\t1.0426931381225586\t0.04151400178670883\t0.6890600323677063\t0.022690637037158012\t0.6900100111961365\t0.016683924943208694\t4.741247653961182\t0.32502883672714233\n",
      "Downloading https://github.com/kimiyoung/planetoid/raw/master/data/ind.pubmed.x\n",
      "Downloading https://github.com/kimiyoung/planetoid/raw/master/data/ind.pubmed.tx\n",
      "Downloading https://github.com/kimiyoung/planetoid/raw/master/data/ind.pubmed.allx\n",
      "Downloading https://github.com/kimiyoung/planetoid/raw/master/data/ind.pubmed.y\n",
      "Downloading https://github.com/kimiyoung/planetoid/raw/master/data/ind.pubmed.ty\n",
      "Downloading https://github.com/kimiyoung/planetoid/raw/master/data/ind.pubmed.ally\n",
      "Downloading https://github.com/kimiyoung/planetoid/raw/master/data/ind.pubmed.graph\n",
      "Downloading https://github.com/kimiyoung/planetoid/raw/master/data/ind.pubmed.test.index\n",
      "Processing...\n",
      "Done!\n",
      "gat.py --dataset=PubMed --lr=0.01 --non_interactive --output_heads=8 --weight_decay=0.001\t0.5977030992507935\t0.002642209641635418\t0.7947199940681458\t0.005898261442780495\t0.7893799543380737\t0.0037572316359728575\t6.226283073425293\t0.16372525691986084\n",
      "gat.py --dataset=PubMed --lr=0.01 --non_interactive --output_heads=8 --v2 --weight_decay=0.001\t0.5935465097427368\t0.0024488940834999084\t0.7950999736785889\t0.005544130224734545\t0.7904000282287598\t0.003234916366636753\t8.337348937988281\t0.16275691986083984\n",
      "gat.py --dataset=PubMed --lr=0.01 --non_interactive --output_heads=8 --random_splits --weight_decay=0.001\t0.6208740472793579\t0.032409150153398514\t0.775399923324585\t0.029508430510759354\t0.775119960308075\t0.023722419515252113\t6.158018589019775\t0.16266892850399017\n",
      "gat.py --dataset=PubMed --lr=0.01 --non_interactive --output_heads=8 --random_splits --v2 --weight_decay=0.001\t0.6186439394950867\t0.03541195020079613\t0.7763400077819824\t0.03042866475880146\t0.7761099934577942\t0.026062820106744766\t8.288683891296387\t0.16572998464107513\n"
     ]
    }
   ],
   "source": [
    "# @title citation datsets (non_interactive)\n",
    "!bash run_gat_non_interactive.sh"
   ]
  },
  {
   "cell_type": "code",
   "execution_count": null,
   "metadata": {
    "colab": {
     "base_uri": "https://localhost:8080/"
    },
    "id": "od1jjjGpa1aE",
    "outputId": "b1d98b23-be8a-45bb-cc47-ce8b4d70c922"
   },
   "outputs": [
    {
     "name": "stdout",
     "output_type": "stream",
     "text": [
      "gat.py --dataset=Cora\t0.6989349126815796\t0.007143755443394184\t0.8072199821472168\t0.005712965968996286\t0.8315500617027283\t0.004269635304808617\t4.234236240386963\t0.3160414695739746\n",
      "gat.py --dataset=Cora --v2\t0.6901217699050903\t0.008635940961539745\t0.8118199706077576\t0.007090152706950903\t0.8335199952125549\t0.004258044064044952\t4.433195114135742\t0.3061247169971466\n",
      "gat.py --dataset=Cora --random_splits\t0.7215478420257568\t0.038211971521377563\t0.8121199607849121\t0.01581667736172676\t0.809469997882843\t0.015716208145022392\t4.264836311340332\t0.2980072796344757\n",
      "gat.py --dataset=Cora --random_splits --v2\t0.7124154567718506\t0.048341769725084305\t0.8126800656318665\t0.022892316803336143\t0.8126800060272217\t0.015868064016103745\t4.492366790771484\t0.3089087903499603\n",
      "gat.py --dataset=CiteSeer\t0.9911662936210632\t0.0063538639806210995\t0.7103999853134155\t0.008194608613848686\t0.7089700102806091\t0.004349519032984972\t4.767168045043945\t0.29818159341812134\n",
      "gat.py --dataset=CiteSeer --v2\t0.991119384765625\t0.007715069223195314\t0.715999960899353\t0.008140187710523605\t0.7104899883270264\t0.0063920640386641026\t5.483137607574463\t0.2722058892250061\n",
      "gat.py --dataset=CiteSeer --random_splits\t1.0433204174041748\t0.03722670301795006\t0.690079927444458\t0.021393701434135437\t0.6871098875999451\t0.01936981827020645\t4.850639820098877\t0.3237242102622986\n",
      "gat.py --dataset=CiteSeer --random_splits --v2\t1.0434753894805908\t0.03945886343717575\t0.6908199787139893\t0.021204331889748573\t0.6887500286102295\t0.018501637503504753\t5.467496871948242\t0.27536752820014954\n",
      "gat.py --dataset=PubMed --lr=0.01 --output_heads=8 --weight_decay=0.001\t0.5959665179252625\t0.002857139566913247\t0.7943600416183472\t0.005143436603248119\t0.7894299030303955\t0.0033911806531250477\t6.696722030639648\t0.22075343132019043\n",
      "gat.py --dataset=PubMed --lr=0.01 --output_heads=8 --v2 --weight_decay=0.001\t0.5944427251815796\t0.0025541651993989944\t0.7954000234603882\t0.005479068495333195\t0.7904300689697266\t0.0030459649860858917\t9.901153564453125\t0.1849655956029892\n",
      "gat.py --dataset=PubMed --lr=0.01 --output_heads=8 --random_splits --weight_decay=0.001\t0.6269733905792236\t0.031938664615154266\t0.7723199725151062\t0.028422100469470024\t0.7692399621009827\t0.025582555681467056\t6.666860580444336\t0.1926925629377365\n",
      "gat.py --dataset=PubMed --lr=0.01 --output_heads=8 --random_splits --v2 --weight_decay=0.001\t0.6200510263442993\t0.029650673270225525\t0.7777600288391113\t0.023877259343862534\t0.7777000665664673\t0.02200481854379177\t9.813310623168945\t0.1278674304485321\n"
     ]
    }
   ],
   "source": [
    "# @title citation datsets (baseline)\n",
    "!bash run_gat.sh\n"
   ]
  },
  {
   "cell_type": "code",
   "execution_count": null,
   "metadata": {
    "colab": {
     "base_uri": "https://localhost:8080/"
    },
    "id": "9qttlp5BdZJg",
    "outputId": "3432565b-32a1-4d3e-f76f-94c101b5ba5a"
   },
   "outputs": [
    {
     "name": "stdout",
     "output_type": "stream",
     "text": [
      "Downloading http://snap.stanford.edu/ogb/data/nodeproppred/arxiv.zip\n",
      "Downloaded 0.08 GB: 100% 81/81 [00:01<00:00, 77.27it/s]\n",
      "Extracting /usr/local/lib/python3.10/dist-packages/citation/../data/OGB/arxiv.zip\n",
      "Processing...\n",
      "Loading necessary files...\n",
      "This might take a while.\n",
      "Processing graphs...\n",
      "100% 1/1 [00:00<00:00, 20560.31it/s]\n",
      "Converting graphs into PyG objects...\n",
      "100% 1/1 [00:00<00:00, 1488.40it/s]\n",
      "Saving...\n",
      "Done!\n",
      "/usr/local/lib/python3.10/dist-packages/ogb/nodeproppred/dataset_pyg.py:69: FutureWarning: You are using `torch.load` with `weights_only=False` (the current default value), which uses the default pickle module implicitly. It is possible to construct malicious pickle data which will execute arbitrary code during unpickling (See https://github.com/pytorch/pytorch/blob/main/SECURITY.md#untrusted-models for more details). In a future release, the default value for `weights_only` will be flipped to `True`. This limits the functions that could be executed during unpickling. Arbitrary objects will no longer be allowed to be loaded via this mode unless they are explicitly allowlisted by the user via `torch.serialization.add_safe_globals`. We recommend you start setting `weights_only=True` for any use case where you don't have full control of the loaded file. Please open an issue on GitHub for any issues related to this experimental feature.\n",
      "  self.data, self.slices = torch.load(self.processed_paths[0])\n",
      "gat.py --batch_norm --dataset=Arxiv --no_normalize_features --runs=20\t1.2172539234161377\t0.002497535664588213\t0.6474562883377075\t0.0017141691641882062\t0.645013689994812\t0.0030203727073967457\t98.97975158691406\t0.7904385328292847\n",
      "/usr/local/lib/python3.10/dist-packages/ogb/nodeproppred/dataset_pyg.py:69: FutureWarning: You are using `torch.load` with `weights_only=False` (the current default value), which uses the default pickle module implicitly. It is possible to construct malicious pickle data which will execute arbitrary code during unpickling (See https://github.com/pytorch/pytorch/blob/main/SECURITY.md#untrusted-models for more details). In a future release, the default value for `weights_only` will be flipped to `True`. This limits the functions that could be executed during unpickling. Arbitrary objects will no longer be allowed to be loaded via this mode unless they are explicitly allowlisted by the user via `torch.serialization.add_safe_globals`. We recommend you start setting `weights_only=True` for any use case where you don't have full control of the loaded file. Please open an issue on GitHub for any issues related to this experimental feature.\n",
      "  self.data, self.slices = torch.load(self.processed_paths[0])\n",
      "gat.py --batch_norm --dataset=Arxiv --no_normalize_features --runs=20 --v2\t1.202537178993225\t0.0013992941239848733\t0.6493154168128967\t0.0015372703783214092\t0.6466554999351501\t0.0030508919153362513\t183.8531951904297\t0.9857564568519592\n",
      "/usr/local/lib/python3.10/dist-packages/ogb/nodeproppred/dataset_pyg.py:69: FutureWarning: You are using `torch.load` with `weights_only=False` (the current default value), which uses the default pickle module implicitly. It is possible to construct malicious pickle data which will execute arbitrary code during unpickling (See https://github.com/pytorch/pytorch/blob/main/SECURITY.md#untrusted-models for more details). In a future release, the default value for `weights_only` will be flipped to `True`. This limits the functions that could be executed during unpickling. Arbitrary objects will no longer be allowed to be loaded via this mode unless they are explicitly allowlisted by the user via `torch.serialization.add_safe_globals`. We recommend you start setting `weights_only=True` for any use case where you don't have full control of the loaded file. Please open an issue on GitHub for any issues related to this experimental feature.\n",
      "  self.data, self.slices = torch.load(self.processed_paths[0])\n",
      "gat.py --batch_norm --dataset=Arxiv --no_normalize_features --non_interactive --runs=20\t1.2179772853851318\t0.0022963318042457104\t0.6474982500076294\t0.001811572234146297\t0.6457903981208801\t0.003166953567415476\t93.38963317871094\t0.9516518712043762\n",
      "/usr/local/lib/python3.10/dist-packages/ogb/nodeproppred/dataset_pyg.py:69: FutureWarning: You are using `torch.load` with `weights_only=False` (the current default value), which uses the default pickle module implicitly. It is possible to construct malicious pickle data which will execute arbitrary code during unpickling (See https://github.com/pytorch/pytorch/blob/main/SECURITY.md#untrusted-models for more details). In a future release, the default value for `weights_only` will be flipped to `True`. This limits the functions that could be executed during unpickling. Arbitrary objects will no longer be allowed to be loaded via this mode unless they are explicitly allowlisted by the user via `torch.serialization.add_safe_globals`. We recommend you start setting `weights_only=True` for any use case where you don't have full control of the loaded file. Please open an issue on GitHub for any issues related to this experimental feature.\n",
      "  self.data, self.slices = torch.load(self.processed_paths[0])\n",
      "gat.py --batch_norm --dataset=Arxiv --no_normalize_features --non_interactive --runs=20 --v2\t1.205772876739502\t0.001765005406923592\t0.6491610407829285\t0.0012270002625882626\t0.6476102471351624\t0.003117109416052699\t160.63592529296875\t0.7098163366317749\n"
     ]
    }
   ],
   "source": [
    "# @title arxiv\n",
    "! python gat.py --dataset=Arxiv --runs=20 --batch_norm --no_normalize_features\n",
    "! python gat.py --dataset=Arxiv --runs=20 --v2 --batch_norm --no_normalize_features\n",
    "\n",
    "\n",
    "! python gat.py --dataset=Arxiv --runs=20 --non_interactive --batch_norm --no_normalize_features\n",
    "! python gat.py --dataset=Arxiv --runs=20 --v2 --non_interactive --batch_norm --no_normalize_features"
   ]
  },
  {
   "cell_type": "code",
   "execution_count": null,
   "metadata": {
    "id": "TKs68clOTqpM"
   },
   "outputs": [],
   "source": [
    "from google.colab import runtime\n",
    "runtime.unassign()"
   ]
  }
 ],
 "metadata": {
  "accelerator": "GPU",
  "colab": {
   "gpuType": "T4",
   "provenance": []
  },
  "kernelspec": {
   "display_name": "Python 3",
   "name": "python3"
  },
  "language_info": {
   "name": "python"
  }
 },
 "nbformat": 4,
 "nbformat_minor": 0
}
